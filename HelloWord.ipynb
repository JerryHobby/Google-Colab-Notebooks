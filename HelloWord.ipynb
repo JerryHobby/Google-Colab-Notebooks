{
  "nbformat": 4,
  "nbformat_minor": 0,
  "metadata": {
    "colab": {
      "name": "HelloWord.ipynb",
      "provenance": [],
      "authorship_tag": "ABX9TyNMfljdSduIa3mzur2IzCl4",
      "include_colab_link": true
    },
    "kernelspec": {
      "name": "python3",
      "display_name": "Python 3"
    }
  },
  "cells": [
    {
      "cell_type": "markdown",
      "metadata": {
        "id": "view-in-github",
        "colab_type": "text"
      },
      "source": [
        "<a href=\"https://colab.research.google.com/github/JerryHobby/Google-Colab-Notebooks/blob/main/HelloWord.ipynb\" target=\"_parent\"><img src=\"https://colab.research.google.com/assets/colab-badge.svg\" alt=\"Open In Colab\"/></a>"
      ]
    },
    {
      "cell_type": "code",
      "metadata": {
        "id": "FkUTAajK-4dX"
      },
      "source": [
        "print(\"Good Morning World!\")"
      ],
      "execution_count": null,
      "outputs": []
    }
  ]
}